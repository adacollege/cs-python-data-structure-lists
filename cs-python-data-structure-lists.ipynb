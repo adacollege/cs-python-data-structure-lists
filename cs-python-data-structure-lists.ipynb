{
 "cells": [
  {
   "cell_type": "markdown",
   "metadata": {},
   "source": [
    "# Lists\n",
    "\n",
    "## List Exercises\n",
    "For all of these exercises you will need either\n",
    "\n",
    "1) A list of numbers: \n",
    "\n",
    "```python \n",
    "numList = [1,5,6,2,3,4,5]\n",
    "```\n",
    "\n",
    "2) A list of strings: \n",
    "\n",
    "```python\n",
    "wordList = [\"apple\", \"banana\", \"grape\", \"cinnamon\", \"apple\", \"eggplant\", \"falafel\", \"grape\", \"grape\"]\n",
    "```\n",
    "\n",
    "They have been defined for you in the first code cell below"
   ]
  },
  {
   "cell_type": "markdown",
   "metadata": {},
   "source": [
    "## Task 1: What error do you get when you run the code below?"
   ]
  },
  {
   "cell_type": "code",
   "execution_count": null,
   "metadata": {
    "scrolled": true
   },
   "outputs": [],
   "source": [
    "numList = [1,5,6,2,3,4,5]\n",
    "x = len(numList)\n",
    "print(x)\n",
    "print(numList[5])\n",
    "print (numList[9])"
   ]
  },
  {
   "cell_type": "markdown",
   "metadata": {},
   "source": [
    "#### How will you define this error? Type your answer here"
   ]
  },
  {
   "cell_type": "markdown",
   "metadata": {},
   "source": [
    "## EXAMPLE Iterating through the list and displaying the data items. "
   ]
  },
  {
   "cell_type": "code",
   "execution_count": null,
   "metadata": {},
   "outputs": [],
   "source": [
    "numList = [1,5,6,2,3,4,5]\n",
    "\n",
    "for x in numList: \n",
    "    print(x)"
   ]
  },
  {
   "cell_type": "code",
   "execution_count": null,
   "metadata": {},
   "outputs": [],
   "source": [
    "wordList = [\"apple\", \"banana\", \"grape\", \"cinnamon\", \"apple\", \"eggplant\", \"falafel\", \"grape\", \"grape\"]\n",
    " \n",
    "for i in range(len(wordList)):\n",
    "    print(wordList[i])"
   ]
  },
  {
   "cell_type": "markdown",
   "metadata": {},
   "source": [
    "## Task 2:  list1 and list2 are defined. Append and extend methods to add items in the list. Comment the code below explaining the difference between append and extend methods."
   ]
  },
  {
   "cell_type": "code",
   "execution_count": null,
   "metadata": {},
   "outputs": [],
   "source": [
    "list1 = []                    # A new empty list\n",
    "list1.append(\"cat\")           # Add a single member at the end of the list\n",
    "print(list1)\n",
    "list1.extend([\"horse\",\"donkey\"])\n",
    "print(list1)\n",
    "\n",
    "list1 = [\"elephant\", \"tiger\"]\n",
    "\n",
    "list1.extend([\"dog\", \"mouse\"])  \n",
    "\n",
    "print(list1)"
   ]
  },
  {
   "cell_type": "markdown",
   "metadata": {},
   "source": [
    "## Task 3: Use insert/remove method to add or delete a data item to or from a list "
   ]
  },
  {
   "cell_type": "code",
   "execution_count": null,
   "metadata": {},
   "outputs": [],
   "source": [
    "list1.insert(0, \"fly\")          # Insert at the beginning\n",
    "list1[0:0] = [\"cow\", \"doe\"]     # Add members at the beginning\n",
    "print(list1)\n",
    "list1.pop(1)                    # \n",
    "if \"cat\" in list1:              # \n",
    "  list1.remove(\"cat\")           # \n",
    "\n",
    "print(list1)"
   ]
  },
  {
   "cell_type": "markdown",
   "metadata": {},
   "source": [
    "## Task 3 continued: Create a list of five school subjects. Ask the user which of these subjects is their least favourite. Remove their choice from the list before you display the list again. "
   ]
  },
  {
   "cell_type": "code",
   "execution_count": null,
   "metadata": {},
   "outputs": [],
   "source": [
    "# Add your code here"
   ]
  },
  {
   "cell_type": "markdown",
   "metadata": {},
   "source": [
    "## Task 4 - Create a list of four four-digit numbers. Display the list to the user, showing each item from the list on a separate line. Ask the user to enter a four digit number. If the number they have typed in matches one in the list, display the position of that number in the list, otherwise display the message: \"Not found!\"."
   ]
  },
  {
   "cell_type": "code",
   "execution_count": null,
   "metadata": {},
   "outputs": [],
   "source": [
    "# Add your code here"
   ]
  },
  {
   "cell_type": "markdown",
   "metadata": {},
   "source": [
    "## How to use the 'in' operator in the list"
   ]
  },
  {
   "cell_type": "code",
   "execution_count": null,
   "metadata": {
    "scrolled": true
   },
   "outputs": [],
   "source": [
    "for item in list1:              # Iteration AKA for each item\n",
    "  print(item)\n",
    "print(\"Item count:\", len(list1)) # Length AKA size AKA item count"
   ]
  },
  {
   "cell_type": "markdown",
   "metadata": {},
   "source": [
    "## Slicing Lists \n",
    "## Task 5: Run the code below and comment each line of the code"
   ]
  },
  {
   "cell_type": "code",
   "execution_count": null,
   "metadata": {},
   "outputs": [],
   "source": [
    "myList = [\"apple\", \"banana\", \"grape\", \"cinnamon\", \"apple\", \"eggplant\", \"falafel\", \"grape\", \"grape\"]\n",
    "\n",
    "print(myList[0:8])\n",
    "\n",
    "print(myList[0:len(myList)])\n",
    "\n",
    "print(myList[1:5])\n",
    "\n",
    "print(myList[:])\n",
    "\n",
    "print(myList[4:2])\n",
    "\n",
    "print(myList[4:-2])\n",
    "\n",
    "print(myList[len(myList):0:-1])\n",
    "\n",
    "print(myList[len(myList)::-1])"
   ]
  },
  {
   "cell_type": "markdown",
   "metadata": {},
   "source": [
    "## Task 6: Write a function which finds all string elements in a list matching a search term that has been entered  and replaces them with the another entered String instead.\n",
    "\n",
    "The search term you should use for testing is 'garage' and it should replace with 'workshop'."
   ]
  },
  {
   "cell_type": "code",
   "execution_count": null,
   "metadata": {},
   "outputs": [],
   "source": [
    "# This function finds all the string elements matching a search term that has been \n",
    "# entered and replaces them with the string 'workshop' instead.\n",
    "\n",
    "def listFindReplace(wordList, searchWord, replaceWord):\n",
    "    newList = [] # a new empty list\n",
    "     #write your code here\n",
    "        \n",
    "    #finally return the new list    \n",
    "    return newList"
   ]
  },
  {
   "cell_type": "code",
   "execution_count": null,
   "metadata": {},
   "outputs": [],
   "source": [
    "#test your function above by running this code here.\n",
    "searchWord = input(\"Enter the word to search for: \")\n",
    "replaceWord = input(\"What is the word you would like to replace?: \")\n",
    "wordList = [\"kitchen\", \"garage\", \"bedroom\", \"bathroom\", \"hall\", \"garage\"]\n",
    "newList = listFindReplace(wordList, searchWord, replaceWord)\n",
    "print(newList)\n"
   ]
  }
 ],
 "metadata": {
  "kernelspec": {
   "display_name": "Python 3",
   "language": "python",
   "name": "python3"
  },
  "language_info": {
   "codemirror_mode": {
    "name": "ipython",
    "version": 3
   },
   "file_extension": ".py",
   "mimetype": "text/x-python",
   "name": "python",
   "nbconvert_exporter": "python",
   "pygments_lexer": "ipython3",
   "version": "3.6.8"
  }
 },
 "nbformat": 4,
 "nbformat_minor": 2
}
